{
 "cells": [
  {
   "cell_type": "markdown",
   "id": "b6ec49a3",
   "metadata": {},
   "source": [
    "<h2 style=\"color: green;\">선형 분류 (Linear Classification)</h2>\n",
    "\n",
    "**선형 분류 (Linear Classification)와 선형 회귀 (Linear Regression) 차이**\n",
    "\n",
    " 선형 회귀와 선형 분류 모두 입력 변수와 출력 변수 간의 관계를 모델링하는 데 사용되는 선형 모델입니다.\n",
    "\n",
    " 선형 회귀는 연속적인 출력 값을 예측하는 회귀 문제를 다룹니다. 즉, 주어진 입력 변수에 대해 연속적인 출력 값을 예측합니다. 예를 들어, 어떤 사람의 나이와 키를 입력으로 주면 이 사람의 몸무게를 예측하는 것이 선형 회귀 문제입니다.\n",
    "\n",
    " 선형 분류는 이진 분류와 다중 클래스 분류로 구분됩니다. 이진 분류는 입력 값을 두개의 클래스 중 하나로 분류하는 문제를 다룹니다. 예를 들어, 스팸 메일 여부를 판단하는 것이 이진 분류 문제입니다. 다중 클래스 분류는 입력 값을 둘 이상의 클래스 중 하나로 분류하는 문제를 다룹니다. 예를 들어, 손글씨 숫자 인식이 이에 해당합니다.\n",
    "\n",
    " 선형 회귀와 선형 분류의 차이점은 출력 변수의 성격입니다. 선형 회귀는 연속적인 출력 값을 예측하는 반면, 선형 분류는 이산적인 클래스 값을 예측합니다. 이에 따라, 선형 회귀에는 주로 MSE (Mean Squared Error)와 같은 회귀용 손실 함수를 사용하고, 선형 분류에는 주로 크로스 엔트로피와 같은 분류용 손실 함수를 사용합니다.\n",
    " \n",
    "**선형 분류 (Linear Classification)종류**\n",
    "+ 로지스틱 회귀 (Logistic Regression)\n",
    "<br></br>\n",
    "+ 서포트 벡터 머신 (Support Vector Machine, SVM)\n",
    "<br></br>\n",
    "+ 퍼셉트론 (Perceptron)\n",
    "<br></br>\n",
    "+ 선형 판별 분석 (Linear Discriminant Analysis, LDA)\n",
    "<br></br>\n",
    "\n",
    "**선형 결정 경계 (Linear Decision Boundary)**\n",
    "\n",
    " 선형 결정 경계(Linear Decision Boundary)란, 입력 데이터를 분류하기 위해 분류 경계를 그리는데 사용되는 선형 함수입니다. 이는 선형 분류 모델에서 가장 간단한 경우입니다.\n",
    "\n",
    " 선형 결정 경계는 입력 데이터를 평면 상에 투영한 후, 해당 데이터를 분류하기 위한 선을 그리는 것입니다. 이때 분류 경계는 선형이기 때문에 간단하고 빠르게 학습할 수 있습니다. 하지만 입력 데이터가 복잡한 패턴을 가지거나 비선형적인 관계를 가지는 경우 선형 결정 경계는 제대로 분류할 수 없는 한계가 있습니다.\n",
    " \n",
    " 따라서, 비선형적인 관계를 가지는 입력 데이터를 분류하기 위해서는 비선형 결정 경계(Non-linear Decision Boundary)를 사용해야 합니다. 이를 위해서는 보다 복잡한 모델을 사용하거나, 입력 데이터를 고차원으로 변환하는 기법을 사용하는 등의 방법이 있습니다."
   ]
  },
  {
   "cell_type": "markdown",
   "id": "65e5bb47",
   "metadata": {},
   "source": [
    "## 선형 분류-로지스틱 회귀 (Logistic Regression)\n",
    "\n"
   ]
  },
  {
   "cell_type": "code",
   "execution_count": null,
   "id": "ddb4c9bf",
   "metadata": {},
   "outputs": [],
   "source": []
  }
 ],
 "metadata": {
  "kernelspec": {
   "display_name": "AI",
   "language": "python",
   "name": "ai"
  },
  "language_info": {
   "codemirror_mode": {
    "name": "ipython",
    "version": 3
   },
   "file_extension": ".py",
   "mimetype": "text/x-python",
   "name": "python",
   "nbconvert_exporter": "python",
   "pygments_lexer": "ipython3",
   "version": "3.8.17"
  }
 },
 "nbformat": 4,
 "nbformat_minor": 5
}

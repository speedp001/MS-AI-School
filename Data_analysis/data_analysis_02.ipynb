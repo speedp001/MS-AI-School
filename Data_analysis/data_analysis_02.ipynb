{
 "cells": [
  {
   "cell_type": "code",
   "execution_count": 3,
   "id": "e8cee518",
   "metadata": {},
   "outputs": [],
   "source": [
    "import pandas as pd\n",
    "import numpy as np\n",
    "import seaborn as sns\n",
    "import matplotlib.pyplot as plt\n",
    "\n",
    "from scipy import stats"
   ]
  },
  {
   "cell_type": "markdown",
   "id": "9a39c6d5",
   "metadata": {},
   "source": [
    "<h2 style=\"color: green;\">Basic - 가설감정</h2>\n",
    "\n",
    "가설 검정(hypothesis testing)은 통계학에서 매우 중요한 개념 중 하나입니다. 가설 검정은 어떤 가설이 옳은지 아니면 틀렸는지를 검증하는 과정으로, 일반적으로 데이터를 수집하고 분석하여 추론하는 과정에서 사용\n",
    "\n",
    "### *귀무 가설*\n",
    "\n",
    "\"검정하려는 주장이 틀렸다\"는 것을 입증하기 위해 세우는 가설입니다. 즉, 어떠한 인과 관계나 차이가 존 재하지 않는다는 가정을 말합니다. 귀무 가설은 연구자가 반드시 입증해야 할 가설로, 이를 기각하는 것이 주요 목표입니다.\n",
    "\n",
    "### *대립 가설*\n",
    "\n",
    "귀무 가설의 반대 개념으로, 실험자가 검정하고자 하는 가설입니다. 즉, 대립 가설은 실험 결과에 영향 을 주는 요인이 있다는 가정으로, 귀무 가설이 기각될 때 채택됩니다.\n",
    "\n",
    "### *t-검정*\n",
    "\n",
    "t-검정은 모집단의 표준 편차가 알려지지 않은 경우에 사용됩니다. 따라서 표본의 표준 편차를 이용하여 검정을 수행합니다. t-검정은 표본의 크기가 작을 때 더욱 유용합니다. t-검정은 일반적으로 모집단의 분 산이나 표준 편차를 추정할 수 없는 경우에 사용됩니다.\n",
    "\n",
    "### *z-검정*\n",
    "\n",
    "z-검정은 모집단의 표준 편차가 알려져 있을 때 사용됩니다. 이 경우에는 표본의 크기가 작아도 z-검정을 사용할 수 있습니다. z-검정은 모집단의 분산이나 표준 편차를 알고 있을 때 사용되며, 대부분의 경우 표 본의 크기가 30 이상인 경우에 적용됩니다."
   ]
  },
  {
   "cell_type": "code",
   "execution_count": 4,
   "id": "5087b39d",
   "metadata": {},
   "outputs": [
    {
     "name": "stdout",
     "output_type": "stream",
     "text": [
      "p-value: 0.0000, 귀무 가설 기각\n"
     ]
    }
   ],
   "source": [
    "#데이터 가져오기\n",
    "titanic_df = pd.read_csv('./data/Titanic_data.csv')\n",
    "\n",
    "#print(titanic_df)\n",
    "\n",
    "#남성 승객과 여성 승객의 생존 여부에 따른 데이터 프레임 생성\n",
    "male_df = titanic_df[titanic_df['Sex'] == 'male']\n",
    "female_df = titanic_df[titanic_df['Sex'] == 'female']\n",
    "#print(male_df)\n",
    "#print(female_df)\n",
    "\n",
    "#.mean()\n",
    "male_survival_rate = male_df['Survived'].mean()\n",
    "female_survival_rate = female_df['Survived'].mean()\n",
    "#print(male_survival_rate)\n",
    "#print(female_survival_rate)\n",
    "\n",
    "\"\"\"\n",
    "0.18890814558058924\n",
    "0.7420382165605095\n",
    "\"\"\"\n",
    "\n",
    "#t - 검정\n",
    "#t 통계량과 p-value를 반환\n",
    "t, p = stats.ttest_ind(male_df['Survived'], female_df['Survived'])\n",
    "\n",
    "#유의 수준과 비교하여 귀무 가설 기각 여부 결정\n",
    "alpha = 0.05\n",
    "if p < alpha:\n",
    "    print(f\"p-value: {p:.4f}, 귀무 가설 기각\")\n",
    "else:\n",
    "    print(f\"p-value: {p:.4f}, 귀무 가설 채택\")"
   ]
  },
  {
   "cell_type": "markdown",
   "id": "81f03fbd",
   "metadata": {},
   "source": [
    "### *일원 분산 분석*\n",
    "\n",
    "일원 분산 분석(One-way ANOVA)은 한 개의 독립 변수를 가지고, 이 변수의 값에 따라 종속 변수의 평균에 차이가 있는지 검정하는 방법입니다. 종속 변수는 수치형 데이터이며, 정규 분포를 따르는 것이 좋습니다. 일 원 분산 분석은 여러 개의 그룹을 비교할 때 유용한 방법입니다. 예를 들어, 세 가지 서로 다른 비료를 사용 하여 작물의 수확량을 측정했을 때, 각 그룹의 평균값이 서로 다른지 검정하는 등의 문제에서 사용할 수 있 습니다.\n",
    "\n",
    "일원 분산 분석은 F-통계량(F-statistic)을 사용하여 검정합니다. F-통계량은 각 그룹의 평균값들의 분산과 그 룹 내 오차의 분산 비율로 계산됩니다. F-통계량이 클수록 각 그룹의 평균값의 차이가 크다는 의미입니다."
   ]
  },
  {
   "cell_type": "code",
   "execution_count": 7,
   "id": "975a00cd",
   "metadata": {},
   "outputs": [],
   "source": [
    "from scipy.stats import f_oneway"
   ]
  },
  {
   "cell_type": "code",
   "execution_count": 8,
   "id": "52f12688",
   "metadata": {},
   "outputs": [
    {
     "name": "stdout",
     "output_type": "stream",
     "text": [
      "   A  B  C\n",
      "0  4  2  5\n",
      "1  5  3  2\n",
      "2  1  5  2\n",
      "3  2  3  1\n",
      "4  4  5  2\n",
      "5  1  4  2\n",
      "6  1  5  2\n",
      "7  2  3  2\n",
      "8  5  5  1\n",
      "9  5  3  5\n",
      "F-Statistic :  0.11992643045704418\n",
      "귀무 가설 채택\n"
     ]
    }
   ],
   "source": [
    "#가상 데이터 생성\n",
    "np.random.seed(1)\n",
    "data = {\n",
    "    'A' : np.random.randint(1,6,10),\n",
    "    'B' : np.random.randint(1,6,10),\n",
    "    'C' : np.random.randint(1,6,10),\n",
    "}\n",
    "\n",
    "df = pd.DataFrame(data)\n",
    "\n",
    "print(df)\n",
    "\n",
    "#일원 분산 분식 수행\n",
    "from scipy.stats import f_oneway\n",
    "\n",
    "f_stat, p_val = f_oneway(df['A'], df['B'],df['C'])\n",
    "print(\"F-Statistic : \",p_val)\n",
    "\n",
    "alpha = 0.05\n",
    "\n",
    "if p_val < alpha :\n",
    "    print(\"귀무 가설 기각\")\n",
    "else :\n",
    "    print(\"귀무 가설 채택\")"
   ]
  },
  {
   "cell_type": "markdown",
   "id": "e4eb93e4",
   "metadata": {},
   "source": [
    "### *카이제곱 검정*\n",
    "\n",
    "카이제곱 검정(chi-square test)은 관측값과 기대값 간의 차이가 우연에 의한 것인지 아니면 유의미한 것인지 를 검정하는 방법 중 하나입니다. 이 검정은 분류 문제에서 많이 사용되며, 특히 범주형 변수 간의 관계를 알 아보는 데 적합합니다."
   ]
  },
  {
   "cell_type": "code",
   "execution_count": 5,
   "id": "83bd09ee",
   "metadata": {},
   "outputs": [],
   "source": [
    "from scipy.stats import chi2_contingency"
   ]
  },
  {
   "cell_type": "code",
   "execution_count": 6,
   "id": "d8349ae0",
   "metadata": {},
   "outputs": [
    {
     "name": "stdout",
     "output_type": "stream",
     "text": [
      "  Gender Smoker  Count\n",
      "0      M    Yes     20\n",
      "1      M     No     80\n",
      "2      M     No     40\n",
      "3      M    Yes     60\n",
      "4      F    Yes     40\n",
      "5      F     No    160\n",
      "6      F     No     80\n",
      "7      F    Yes    120\n",
      "Smoker   No  Yes\n",
      "Gender          \n",
      "F       120   80\n",
      "M        60   40\n",
      "1.0\n",
      "귀무 가설 채택\n"
     ]
    }
   ],
   "source": [
    "#가상 데이터 생성\n",
    "data = {\n",
    "    \"Gender\" : [\"M\",\"M\",\"M\",\"M\",\"F\",\"F\",\"F\",\"F\"],\n",
    "    \"Smoker\" : [\"Yes\", \"No\", \"No\", \"Yes\", \"Yes\", \"No\", \"No\", \"Yes\"],\n",
    "    \"Count\" : [20,80,40,60,40,160,80,120]\n",
    "}\n",
    "\n",
    "df = pd.DataFrame(data)\n",
    "\n",
    "print(df)\n",
    "\n",
    "#데이터 프레임을 이용한 분할표 생성\n",
    "table = pd.pivot_table(df, values=\"Count\", index=\"Gender\", columns=\"Smoker\")\n",
    "print(table)\n",
    "\n",
    "#chi2_contingency\n",
    "stat, p, dof, expected = chi2_contingency(table)\n",
    "alpha = 0.05\n",
    "\n",
    "print(p)\n",
    "if p < alpha :\n",
    "    print(\"귀무 가설 기각\")\n",
    "else :\n",
    "    print(\"귀무 가설 채택\")"
   ]
  },
  {
   "cell_type": "markdown",
   "id": "63e3e41c",
   "metadata": {},
   "source": [
    "### *이원 분산 분석*\n",
    "\n",
    "이원 분산 분석 (Two-way ANOVA)는 두 가지 요인(factor)에 따른 평균값의 차이를 비교하는 방법입니다. 각 요인은 두 개 이상의 수준(level)을 가질 수 있으며, 요인 간 상호작용 여부도 검정할 수 있습니다."
   ]
  },
  {
   "cell_type": "code",
   "execution_count": 9,
   "id": "497c6b39",
   "metadata": {},
   "outputs": [],
   "source": [
    "from statsmodels.formula.api import ols\n",
    "from statsmodels.stats.anova import anova_lm"
   ]
  },
  {
   "cell_type": "code",
   "execution_count": 10,
   "id": "ef92fcd7",
   "metadata": {},
   "outputs": [
    {
     "name": "stdout",
     "output_type": "stream",
     "text": [
      "     PassengerId  Survived  Pclass   \n",
      "0              1         0       3  \\\n",
      "1              2         1       1   \n",
      "2              3         1       3   \n",
      "3              4         1       1   \n",
      "4              5         0       3   \n",
      "..           ...       ...     ...   \n",
      "886          887         0       2   \n",
      "887          888         1       1   \n",
      "888          889         0       3   \n",
      "889          890         1       1   \n",
      "890          891         0       3   \n",
      "\n",
      "                                                  Name     Sex   Age  SibSp   \n",
      "0                              Braund, Mr. Owen Harris    male  22.0      1  \\\n",
      "1    Cumings, Mrs. John Bradley (Florence Briggs Th...  female  38.0      1   \n",
      "2                               Heikkinen, Miss. Laina  female  26.0      0   \n",
      "3         Futrelle, Mrs. Jacques Heath (Lily May Peel)  female  35.0      1   \n",
      "4                             Allen, Mr. William Henry    male  35.0      0   \n",
      "..                                                 ...     ...   ...    ...   \n",
      "886                              Montvila, Rev. Juozas    male  27.0      0   \n",
      "887                       Graham, Miss. Margaret Edith  female  19.0      0   \n",
      "888           Johnston, Miss. Catherine Helen \"Carrie\"  female   NaN      1   \n",
      "889                              Behr, Mr. Karl Howell    male  26.0      0   \n",
      "890                                Dooley, Mr. Patrick    male  32.0      0   \n",
      "\n",
      "     Parch            Ticket     Fare Cabin Embarked  \n",
      "0        0         A/5 21171   7.2500   NaN        S  \n",
      "1        0          PC 17599  71.2833   C85        C  \n",
      "2        0  STON/O2. 3101282   7.9250   NaN        S  \n",
      "3        0            113803  53.1000  C123        S  \n",
      "4        0            373450   8.0500   NaN        S  \n",
      "..     ...               ...      ...   ...      ...  \n",
      "886      0            211536  13.0000   NaN        S  \n",
      "887      0            112053  30.0000   B42        S  \n",
      "888      2        W./C. 6607  23.4500   NaN        S  \n",
      "889      0            111369  30.0000  C148        C  \n",
      "890      0            370376   7.7500   NaN        Q  \n",
      "\n",
      "[891 rows x 12 columns]\n"
     ]
    },
    {
     "data": {
      "text/plain": [
       "<seaborn.axisgrid.FacetGrid at 0x104f67a30>"
      ]
     },
     "execution_count": 10,
     "metadata": {},
     "output_type": "execute_result"
    },
    {
     "data": {
      "image/png": "[encoded data removed]",
      "text/plain": [
       "<Figure size 558.875x500 with 1 Axes>"
      ]
     },
     "metadata": {},
     "output_type": "display_data"
    }
   ],
   "source": [
    "titanic_df = pd.read_csv(\"./data/Titanic_data.csv\")\n",
    "\n",
    "print(titanic_df)\n",
    "\n",
    "#이원 분산 분석 모델 생성\n",
    "#문자열 형태로 회귀식을 받아들여서 모델을 생성하는 함수 ols \n",
    "model = ols(\"Survived ~ C(Sex) + C(Pclass) + C(Sex):C(Pclass)\", titanic_df).fit()\n",
    "\n",
    "#분석\n",
    "anova_results = anova_lm(model, type=2)\n",
    "\n",
    "#시각화\n",
    "sns.catplot(x=\"Sex\", y=\"Survived\", hue=\"Pclass\", data=titanic_df, kind=\"bar\")"
   ]
  },
  {
   "cell_type": "markdown",
   "id": "a94141dc",
   "metadata": {},
   "source": [
    "### *교호작용*\n",
    "\n",
    "교호작용(interaction effect) 효과란, 두 개 이상의 독립 변수가 종속 변수에 영향을 미칠 때, 이들 독립 변수들 간의 상호작용이 종속 변수에 영향을 미치는 것을 말합니다. 즉, 하나의 변수만 고려하는 것이 아니라 여러 변수 간의 조합이 종속 변수에 영향을 미치는 것입니다."
   ]
  },
  {
   "cell_type": "code",
   "execution_count": 11,
   "id": "28072382",
   "metadata": {},
   "outputs": [
    {
     "name": "stdout",
     "output_type": "stream",
     "text": [
      "     survived  pclass     sex   age  sibsp  parch     fare embarked   class   \n",
      "0           0       3    male  22.0      1      0   7.2500        S   Third  \\\n",
      "1           1       1  female  38.0      1      0  71.2833        C   First   \n",
      "2           1       3  female  26.0      0      0   7.9250        S   Third   \n",
      "3           1       1  female  35.0      1      0  53.1000        S   First   \n",
      "4           0       3    male  35.0      0      0   8.0500        S   Third   \n",
      "..        ...     ...     ...   ...    ...    ...      ...      ...     ...   \n",
      "886         0       2    male  27.0      0      0  13.0000        S  Second   \n",
      "887         1       1  female  19.0      0      0  30.0000        S   First   \n",
      "888         0       3  female   NaN      1      2  23.4500        S   Third   \n",
      "889         1       1    male  26.0      0      0  30.0000        C   First   \n",
      "890         0       3    male  32.0      0      0   7.7500        Q   Third   \n",
      "\n",
      "       who  adult_male deck  embark_town alive  alone  \n",
      "0      man        True  NaN  Southampton    no  False  \n",
      "1    woman       False    C    Cherbourg   yes  False  \n",
      "2    woman       False  NaN  Southampton   yes   True  \n",
      "3    woman       False    C  Southampton   yes  False  \n",
      "4      man        True  NaN  Southampton    no   True  \n",
      "..     ...         ...  ...          ...   ...    ...  \n",
      "886    man        True  NaN  Southampton    no   True  \n",
      "887  woman       False    B  Southampton   yes   True  \n",
      "888  woman       False  NaN  Southampton    no  False  \n",
      "889    man        True    C    Cherbourg   yes   True  \n",
      "890    man        True  NaN   Queenstown    no   True  \n",
      "\n",
      "[891 rows x 15 columns]\n"
     ]
    },
    {
     "data": {
      "text/plain": [
       "<matplotlib.legend.Legend at 0x136b84ca0>"
      ]
     },
     "execution_count": 11,
     "metadata": {},
     "output_type": "execute_result"
    },
    {
     "data": {
      "image/png": "[encoded data removed]",
      "text/plain": [
       "<Figure size 640x480 with 1 Axes>"
      ]
     },
     "metadata": {},
     "output_type": "display_data"
    }
   ],
   "source": [
    "#load data\n",
    "titanic = sns.load_dataset('titanic')\n",
    "print(titanic)\n",
    "\n",
    "sns.pointplot(x=\"sex\", y=\"survived\", hue=\"pclass\", data=titanic)\n",
    "plt.legend(title=\"Pclass\", loc=\"best\") #loc는 plt.legend의 위치"
   ]
  }
 ],
 "metadata": {
  "kernelspec": {
   "display_name": "AI",
   "language": "python",
   "name": "ai"
  },
  "language_info": {
   "codemirror_mode": {
    "name": "ipython",
    "version": 3
   },
   "file_extension": ".py",
   "mimetype": "text/x-python",
   "name": "python",
   "nbconvert_exporter": "python",
   "pygments_lexer": "ipython3",
   "version": "3.8.16"
  }
 },
 "nbformat": 4,
 "nbformat_minor": 5
}

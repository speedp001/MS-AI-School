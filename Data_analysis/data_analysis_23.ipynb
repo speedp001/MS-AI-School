{
 "cells": [
  {
   "cell_type": "code",
   "execution_count": 31,
   "id": "6741a144",
   "metadata": {},
   "outputs": [],
   "source": [
    "import seaborn as sns\n",
    "import matplotlib.pyplot as plt\n",
    "import random\n",
    "import os"
   ]
  },
  {
   "cell_type": "code",
   "execution_count": 22,
   "id": "5a751bc7",
   "metadata": {},
   "outputs": [
    {
     "name": "stdout",
     "output_type": "stream",
     "text": [
      "     survived  pclass   age     fare\n",
      "0           0       3  22.0   7.2500\n",
      "1           1       1  38.0  71.2833\n",
      "2           1       3  26.0   7.9250\n",
      "3           1       1  35.0  53.1000\n",
      "4           0       3  35.0   8.0500\n",
      "..        ...     ...   ...      ...\n",
      "885         0       3  39.0  29.1250\n",
      "886         0       2  27.0  13.0000\n",
      "887         1       1  19.0  30.0000\n",
      "889         1       1  26.0  30.0000\n",
      "890         0       3  32.0   7.7500\n",
      "\n",
      "[714 rows x 4 columns]\n",
      "          survived    pclass       age      fare\n",
      "survived  1.000000 -0.359653 -0.077221  0.268189\n",
      "pclass   -0.359653  1.000000 -0.369226 -0.554182\n",
      "age      -0.077221 -0.369226  1.000000  0.096067\n",
      "fare      0.268189 -0.554182  0.096067  1.000000\n"
     ]
    }
   ],
   "source": [
    "cols = [\"survived\", \"pclass\", \"age\", \"fare\"]\n",
    "\n",
    "df = sns.load_dataset(\"titanic\")[cols].dropna()\n",
    "print(df)\n",
    "\n",
    "corr = df.corr()\n",
    "print(corr)\n",
    "#corr은 상관계수 변수간에 서로 얼마나 관계가 있는지를 수치로 나타낸 것"
   ]
  },
  {
   "cell_type": "code",
   "execution_count": 23,
   "id": "763555e6",
   "metadata": {},
   "outputs": [
    {
     "name": "stdout",
     "output_type": "stream",
     "text": [
      "            005930.KS\n",
      "Date                 \n",
      "2021-01-04      86876\n",
      "2021-01-05      80608\n",
      "2021-01-06      89827\n",
      "2021-01-07      89760\n",
      "2021-01-08      88195\n",
      "...               ...\n",
      "2021-04-09      82664\n",
      "2021-04-10      80355\n",
      "2021-04-11      83446\n",
      "2021-04-12      85236\n",
      "2021-04-13      85312\n",
      "\n",
      "[100 rows x 1 columns]\n",
      "            066570.KS\n",
      "Date                 \n",
      "2021-01-04     143365\n",
      "2021-01-05     142169\n",
      "2021-01-06     151118\n",
      "2021-01-07     150869\n",
      "2021-01-08     147279\n",
      "...               ...\n",
      "2021-04-09     147180\n",
      "2021-04-10     159806\n",
      "2021-04-11     158504\n",
      "2021-04-12     148314\n",
      "2021-04-13     152396\n",
      "\n",
      "[100 rows x 1 columns]\n",
      "            Samsung      LG\n",
      "Date                       \n",
      "2021-01-04    86876  143365\n",
      "2021-01-05    80608  142169\n",
      "2021-01-06    89827  151118\n",
      "2021-01-07    89760  150869\n",
      "2021-01-08    88195  147279\n",
      "...             ...     ...\n",
      "2021-04-09    82664  147180\n",
      "2021-04-10    80355  159806\n",
      "2021-04-11    83446  158504\n",
      "2021-04-12    85236  148314\n",
      "2021-04-13    85312  152396\n",
      "\n",
      "[100 rows x 2 columns]\n"
     ]
    }
   ],
   "source": [
    "import pandas as pd\n",
    "import random\n",
    "\n",
    "#랜덤하게 각 주식의 가격 100개의 데이터 생성\n",
    "\n",
    "#Samsung\n",
    "dates = pd.date_range(start='2021-01-04', periods=100, freq='D')\n",
    "samsung_prices = [random.randint(80000,90000) for _ in range(100)]\n",
    "samsung_data = {'Date' : dates, '005930.KS' : samsung_prices}\n",
    "samsung_df = pd.DataFrame(samsung_data)\n",
    "samsung_df.set_index('Date', inplace=True)\n",
    "#인덱스를 Date로 지정\n",
    "print(samsung_df)\n",
    "\n",
    "#LG\n",
    "lg_prices = [random.randint(140000,160000) for _ in range(100)]\n",
    "lg_data = {'Date' : dates, '066570.KS' : lg_prices}\n",
    "lg_df = pd.DataFrame(lg_data)\n",
    "lg_df.set_index('Date', inplace=True)\n",
    "print(lg_df)\n",
    "\n",
    "#두개의 프레임 합치기\n",
    "df = pd.concat([samsung_df, lg_df] , axis=1)\n",
    "df = df.loc[:, ['005930.KS', '066570.KS']]\n",
    "df.columns = ['Samsung', 'LG']\n",
    "print(df)\n",
    "\n",
    "#폴더 생성\n",
    "os.makedirs(\"./data\", exist_ok=True)\n",
    "\n",
    "#저장\n",
    "df.to_csv(\"./data/stock_price.csv\")"
   ]
  },
  {
   "cell_type": "code",
   "execution_count": 27,
   "id": "3eea1d73",
   "metadata": {},
   "outputs": [
    {
     "name": "stdout",
     "output_type": "stream",
     "text": [
      "            Samsung      LG\n",
      "Date                       \n",
      "2021-01-04    86876  143365\n",
      "2021-01-05    80608  142169\n",
      "2021-01-06    89827  151118\n",
      "2021-01-07    89760  150869\n",
      "2021-01-08    88195  147279\n",
      "...             ...     ...\n",
      "2021-04-09    82664  147180\n",
      "2021-04-10    80355  159806\n",
      "2021-04-11    83446  158504\n",
      "2021-04-12    85236  148314\n",
      "2021-04-13    85312  152396\n",
      "\n",
      "[100 rows x 2 columns]\n",
      "             Samsung        LG\n",
      "Date                          \n",
      "2021-01-04       NaN       NaN\n",
      "2021-01-05 -0.072149 -0.008342\n",
      "2021-01-06  0.114368  0.062946\n",
      "2021-01-07 -0.000746 -0.001648\n",
      "2021-01-08 -0.017435 -0.023795\n",
      "...              ...       ...\n",
      "2021-04-09 -0.050875 -0.057855\n",
      "2021-04-10 -0.027932  0.085786\n",
      "2021-04-11  0.038467 -0.008147\n",
      "2021-04-12  0.021451 -0.064289\n",
      "2021-04-13  0.000892  0.027523\n",
      "\n",
      "[100 rows x 2 columns]\n",
      "          Samsung        LG\n",
      "Samsung  1.000000  0.049474\n",
      "LG       0.049474  1.000000\n"
     ]
    }
   ],
   "source": [
    "#csv 읽기\n",
    "df = pd.read_csv(\"./data/stock_price.csv\")\n",
    "df['Date'] = pd.to_datetime(df['Date'])\n",
    "df.set_index('Date', inplace=True)\n",
    "print(df)\n",
    "\n",
    "#두 종목의 수익률 계산\n",
    "returns = df.pct_change()\n",
    "print(returns)\n",
    "\n",
    "#수익률 간의 상관 계수 계산\n",
    "corr_matrix = returns.corr()\n",
    "print(corr_matrix)"
   ]
  },
  {
   "cell_type": "code",
   "execution_count": 32,
   "id": "d547f072",
   "metadata": {},
   "outputs": [
    {
     "data": {
      "image/png": "[encoded data removed]",
      "text/plain": [
       "<Figure size 640x480 with 2 Axes>"
      ]
     },
     "metadata": {},
     "output_type": "display_data"
    }
   ],
   "source": [
    "#히트맵 그리기\n",
    "sns.heatmap(corr_matrix, annot=True, cmap=\"coolwarm\")\n",
    "plt.show()\n",
    "#삼성과 LG는 서로 상관관계가 없다."
   ]
  },
  {
   "cell_type": "code",
   "execution_count": null,
   "id": "e96d2912",
   "metadata": {},
   "outputs": [],
   "source": []
  }
 ],
 "metadata": {
  "kernelspec": {
   "display_name": "AI",
   "language": "python",
   "name": "ai"
  },
  "language_info": {
   "codemirror_mode": {
    "name": "ipython",
    "version": 3
   },
   "file_extension": ".py",
   "mimetype": "text/x-python",
   "name": "python",
   "nbconvert_exporter": "python",
   "pygments_lexer": "ipython3",
   "version": "3.8.16"
  }
 },
 "nbformat": 4,
 "nbformat_minor": 5
}

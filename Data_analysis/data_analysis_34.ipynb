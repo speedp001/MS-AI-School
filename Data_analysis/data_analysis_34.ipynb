{
 "cells": [
  {
   "cell_type": "code",
   "execution_count": 1,
   "id": "c03ab379",
   "metadata": {},
   "outputs": [],
   "source": [
    "import numpy as np\n",
    "import pandas as pd\n",
    "from scipy.stats import mannwhitneyu"
   ]
  },
  {
   "cell_type": "code",
   "execution_count": 2,
   "id": "233cabc8",
   "metadata": {},
   "outputs": [],
   "source": [
    "#랜덤 데이터 생성\n",
    "np.random.seed(42)\n",
    "group1 = np.random.normal(loc=6, scale = 1.5, size=100)\n",
    "group2 = np.random.normal(loc=7, scale = 1.5, size=100)\n",
    "\n",
    "#csv 저장\n",
    "data = pd.DataFrame({\n",
    "    'group1' : group1,\n",
    "    'group2' : group2\n",
    "})\n",
    "\n",
    "data.to_csv('./data/sleep_data.csv', index=False, encoding='utf-8')"
   ]
  },
  {
   "cell_type": "code",
   "execution_count": 3,
   "id": "4073e4df",
   "metadata": {},
   "outputs": [
    {
     "name": "stdout",
     "output_type": "stream",
     "text": [
      "      group1    group2\n",
      "0   6.745071  4.876944\n",
      "1   5.792604  6.369032\n",
      "2   6.971533  6.485928\n",
      "3   8.284545  5.796584\n",
      "4   5.648770  6.758071\n",
      "..       ...       ...\n",
      "95  3.804728  7.577976\n",
      "96  6.444180  5.674214\n",
      "97  6.391583  7.230588\n",
      "98  6.007670  7.087313\n",
      "99  5.648119  5.285545\n",
      "\n",
      "[100 rows x 2 columns]\n"
     ]
    }
   ],
   "source": [
    "#csv 읽기\n",
    "sleep_data = pd.read_csv('./data/sleep_data.csv')\n",
    "print(sleep_data)"
   ]
  },
  {
   "cell_type": "code",
   "execution_count": 6,
   "id": "ffa362a2",
   "metadata": {},
   "outputs": [],
   "source": [
    "group1_data = sleep_data['group1']\n",
    "group2_data = sleep_data['group2']"
   ]
  },
  {
   "cell_type": "code",
   "execution_count": 8,
   "id": "0ab3ee17",
   "metadata": {},
   "outputs": [
    {
     "name": "stdout",
     "output_type": "stream",
     "text": [
      "2834.0 1.2154388166891524e-07\n"
     ]
    }
   ],
   "source": [
    "#앤-휘트니 검정 수행\n",
    "st, p_val = mannwhitneyu(group1_data, group2_data, alternative='two-sided') #two-sided는 양측검증\n",
    "print(st, p_val)"
   ]
  },
  {
   "cell_type": "code",
   "execution_count": 9,
   "id": "ace5a121",
   "metadata": {},
   "outputs": [
    {
     "name": "stdout",
     "output_type": "stream",
     "text": [
      "두 집단 간에는 유익한 차이가 있음\n"
     ]
    }
   ],
   "source": [
    "#유의수준 0.05로 가설 점정\n",
    "if p_val < 0.05 :\n",
    "    print('두 집단 간에는 유익한 차이가 있음')\n",
    "else :\n",
    "    print('두 집단 간에는 유의한ㄴ 차이가 없음')"
   ]
  },
  {
   "cell_type": "code",
   "execution_count": 13,
   "id": "15b82aa8",
   "metadata": {},
   "outputs": [
    {
     "name": "stdout",
     "output_type": "stream",
     "text": [
      "[6.62434536 4.38824359 4.47182825 3.92703138 5.86540763 2.6984613\n",
      " 6.74481176 4.2387931  5.3190391  4.75062962 6.46210794 2.93985929\n",
      " 4.6775828  4.61594565 6.13376944 3.90010873 4.82757179 4.12214158\n",
      " 5.04221375 5.58281521] [5.89938082 8.14472371 7.90159072 7.50249434 7.90085595 6.31627214\n",
      " 6.87710977 6.06423057 6.73211192 7.53035547 6.30833925 6.60324647\n",
      " 6.3128273  6.15479436 6.32875387 6.9873354  5.88268965 7.2344157\n",
      " 8.65980218 7.74204416] [ 9.80816445  9.11237104  9.25284171 11.6924546  10.05080775  9.36300435\n",
      " 10.19091548 12.10025514 10.12015895 10.61720311 10.30017032  9.64775015\n",
      "  8.8574818   9.65065728  9.79110577 10.58662319 10.83898341 10.93110208\n",
      " 10.28558733 10.88514116]\n"
     ]
    }
   ],
   "source": [
    "#크러스칼-왈라스 검증 실습\n",
    "\n",
    "from scipy.stats import kruskal\n",
    "\n",
    "np.random.seed(1)\n",
    "group1 = np.random.normal(loc=5, scale=1, size=20)\n",
    "group2 = np.random.normal(loc=7, scale=1, size=20)\n",
    "group3 = np.random.normal(loc=10, scale=1, size=20)\n",
    "\n",
    "print(group1, group2, group3)"
   ]
  },
  {
   "cell_type": "code",
   "execution_count": 14,
   "id": "7e4f28ef",
   "metadata": {},
   "outputs": [
    {
     "name": "stdout",
     "output_type": "stream",
     "text": [
      "H 검정 통계량 :  48.81967213114754\n",
      "p-val :  2.5057797345031748e-11\n"
     ]
    }
   ],
   "source": [
    "H, p_val = kruskal(group1, group2, group3)\n",
    "\n",
    "print(\"H 검정 통계량 : \", H)\n",
    "print(\"p-val : \", p_val)"
   ]
  },
  {
   "cell_type": "code",
   "execution_count": 21,
   "id": "6c07c724",
   "metadata": {},
   "outputs": [],
   "source": [
    "#프리드만 검증 실습\n",
    "\n",
    "import matplotlib.pyplot as plt\n",
    "from scipy.stats import friedmanchisquare"
   ]
  },
  {
   "cell_type": "code",
   "execution_count": 22,
   "id": "b8a303c5",
   "metadata": {},
   "outputs": [],
   "source": [
    "# 데이터 생성\n",
    "np.random.seed(1)\n",
    "group1 = np.random.normal(loc=10, scale=2, size=10)\n",
    "group2 = np.random.normal(loc=12, scale=2, size=10)\n",
    "group3 = np.random.normal(loc=15, scale=2, size=10)\n",
    "data = np.stack([group1, group2, group3], axis=1)"
   ]
  },
  {
   "cell_type": "code",
   "execution_count": 23,
   "id": "ab5de960",
   "metadata": {},
   "outputs": [
    {
     "name": "stdout",
     "output_type": "stream",
     "text": [
      "프리드만 검정 결과\n",
      "검정 통계량: 11.400000000000006\n",
      "p-value: 0.003345965457471265\n"
     ]
    }
   ],
   "source": [
    "# 프리드만 검정 수행\n",
    "statistic, pvalue = friedmanchisquare(*data.T)\n",
    "#*data.T는 전치가 이루어진 배열을 반환(행과 열을 바꿔준다 )\n",
    "#*data.T는 전치된 배열의 각 행을 개별적인 인자로 언패킹하는 것을 의미\n",
    "print(\"프리드만 검정 결과\")\n",
    "print(f\"검정 통계량: {statistic}\")\n",
    "print(f\"p-value: {pvalue}\")"
   ]
  },
  {
   "cell_type": "code",
   "execution_count": 24,
   "id": "32e6f385",
   "metadata": {},
   "outputs": [
    {
     "data": {
      "image/png": "[encoded data removed]",
      "text/plain": [
       "<Figure size 640x480 with 1 Axes>"
      ]
     },
     "metadata": {},
     "output_type": "display_data"
    }
   ],
   "source": [
    "# 박스플롯으로 시각화\n",
    "fig, ax = plt.subplots()\n",
    "ax.boxplot(data)\n",
    "ax.set_xticklabels(['Group 1', 'Group 2', 'Group 3'])\n",
    "ax.set_ylabel('Value')\n",
    "ax.set_title('Friedman Test Result')\n",
    "plt.show()"
   ]
  },
  {
   "cell_type": "code",
   "execution_count": null,
   "id": "03e2e403",
   "metadata": {},
   "outputs": [],
   "source": []
  }
 ],
 "metadata": {
  "kernelspec": {
   "display_name": "AI",
   "language": "python",
   "name": "ai"
  },
  "language_info": {
   "codemirror_mode": {
    "name": "ipython",
    "version": 3
   },
   "file_extension": ".py",
   "mimetype": "text/x-python",
   "name": "python",
   "nbconvert_exporter": "python",
   "pygments_lexer": "ipython3",
   "version": "3.8.16"
  }
 },
 "nbformat": 4,
 "nbformat_minor": 5
}

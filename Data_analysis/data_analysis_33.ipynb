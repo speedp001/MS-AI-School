{
 "cells": [
  {
   "cell_type": "code",
   "execution_count": 8,
   "id": "61c53e9f",
   "metadata": {},
   "outputs": [],
   "source": [
    "import numpy as np\n",
    "import pandas as pd\n",
    "import seaborn as sns\n",
    "import matplotlib.pyplot as plt\n",
    "from scipy.stats import wilcoxon\n",
    "from scipy.stats import mannwhitneyu"
   ]
  },
  {
   "cell_type": "code",
   "execution_count": 17,
   "id": "9aa29041",
   "metadata": {},
   "outputs": [
    {
     "name": "stdout",
     "output_type": "stream",
     "text": [
      "    pre_treatment  post_treatment\n",
      "0               3              -3\n",
      "1               9               0\n",
      "2               4               3\n",
      "3               8              -2\n",
      "4               5               0\n",
      "5               5              -3\n",
      "6               7               2\n",
      "7               7               0\n",
      "8               7               1\n",
      "9               4              -2\n",
      "10              1               0\n",
      "11              9               3\n",
      "12              9               2\n",
      "13              6               2\n",
      "14              1              -3\n",
      "15              5               0\n",
      "16              1              -3\n",
      "17              4               3\n",
      "18              4               2\n",
      "19              2               1\n",
      "0.0 1.9073486328125e-06\n"
     ]
    }
   ],
   "source": [
    "#데이터 불러오기\n",
    "data = pd.read_csv(\"./data/treatment_data.csv\")\n",
    "print(data)\n",
    "\n",
    "#두 변수 간의 차이 검정\n",
    "stat, p = wilcoxon(data['pre_treatment'], data['post_treatment'])\n",
    "print(stat, p)"
   ]
  },
  {
   "cell_type": "code",
   "execution_count": 18,
   "id": "6f6d1aa5",
   "metadata": {},
   "outputs": [
    {
     "name": "stdout",
     "output_type": "stream",
     "text": [
      "Different distribution\n"
     ]
    },
    {
     "data": {
      "image/png": "[encoded data removed]",
      "text/plain": [
       "<Figure size 640x480 with 1 Axes>"
      ]
     },
     "metadata": {},
     "output_type": "display_data"
    }
   ],
   "source": [
    "#검정 결과 시각화\n",
    "\n",
    "sns.boxplot(data=data[['pre_treatment','post_treatment']], palette=\"Set3\")\n",
    "sns.stripplot(data=data[['pre_treatment','post_treatment']], size=4)\n",
    "if p > 0.05 :\n",
    "    print(\"Same distribution\")\n",
    "else :\n",
    "    print(\"Different distribution\")"
   ]
  },
  {
   "cell_type": "code",
   "execution_count": 19,
   "id": "edca1c27",
   "metadata": {},
   "outputs": [
    {
     "name": "stdout",
     "output_type": "stream",
     "text": [
      "   group1  group2\n",
      "0       3       6\n",
      "1       2       4\n",
      "2       5       7\n",
      "3       1       2\n",
      "4       4       6\n",
      "5       2       3\n",
      "6       6       7\n",
      "7       7       9\n",
      "8       9      10\n",
      "9       8      11\n"
     ]
    }
   ],
   "source": [
    "data = {'group1': [3,2,5,1,4,2,6,7,9,8],\n",
    "       'group2' : [6,4,7,2,6,3,7,9,10,11]}\n",
    "\n",
    "df = pd.DataFrame(data)\n",
    "print(df)\n",
    "df.to_csv('./data/Mann_Whitney-Test_sample_data.csv', index=False)"
   ]
  },
  {
   "cell_type": "code",
   "execution_count": 20,
   "id": "f141db93",
   "metadata": {},
   "outputs": [
    {
     "name": "stdout",
     "output_type": "stream",
     "text": [
      "Statistic: 32.5\n",
      "p-value: 0.19622288836173518\n",
      "fail to reject HO\n"
     ]
    }
   ],
   "source": [
    "#데이터 불러오기\n",
    "data = pd.read_csv('./data/Mann_Whitney-Test_sample_data.csv')\n",
    "\n",
    "#두 집단 간의 차이 검정\n",
    "stat, p = mannwhitneyu(data['group1'], data['group2'])\n",
    "\n",
    "#결과 출력\n",
    "print('Statistic:', stat)\n",
    "print('p-value:', p)\n",
    "if p > 0.05 :\n",
    "    print(\"fail to reject HO\")\n",
    "else :\n",
    "    print(\"reject HO\")"
   ]
  },
  {
   "cell_type": "code",
   "execution_count": 22,
   "id": "5d18d085",
   "metadata": {},
   "outputs": [
    {
     "data": {
      "image/png": "[encoded data removed]",
      "text/plain": [
       "<Figure size 640x480 with 1 Axes>"
      ]
     },
     "metadata": {},
     "output_type": "display_data"
    }
   ],
   "source": [
    "#시각화\n",
    "\n",
    "sns.boxplot(data=data[['group1','group2']], palette='Set3')\n",
    "sns.stripplot(data=data[['group1', 'group2']], size=4)\n",
    "sns.despine(trim=True)\n",
    "plt.show()"
   ]
  },
  {
   "cell_type": "code",
   "execution_count": 29,
   "id": "44fa4948",
   "metadata": {},
   "outputs": [],
   "source": [
    "from scipy.stats import levene"
   ]
  },
  {
   "cell_type": "code",
   "execution_count": 30,
   "id": "4960adbd",
   "metadata": {},
   "outputs": [
    {
     "name": "stdout",
     "output_type": "stream",
     "text": [
      "   group1  group2\n",
      "0       3       6\n",
      "1       2       4\n",
      "2       5       7\n",
      "3       1       2\n",
      "4       4       6\n",
      "5       2       3\n",
      "6       6       7\n",
      "7       7       9\n",
      "8       9      10\n",
      "9       8      11\n"
     ]
    }
   ],
   "source": [
    "#데이터 불러오기\n",
    "data = pd.read_csv(\"./data/Mann_Whitney-Test_sample_data.csv\")\n",
    "print(data)"
   ]
  },
  {
   "cell_type": "code",
   "execution_count": 34,
   "id": "3f3dada5",
   "metadata": {},
   "outputs": [
    {
     "name": "stdout",
     "output_type": "stream",
     "text": [
      "0.0 1.0\n",
      "fail to reject HO\n"
     ]
    }
   ],
   "source": [
    "#등분산성 검정\n",
    "stat, p = levene(data['group1'],data['group2'])\n",
    "print(stat, p)\n",
    "if p > 0.05 :\n",
    "    print(\"fail to reject HO\")\n",
    "else :\n",
    "    print(\"reject HO\")"
   ]
  },
  {
   "cell_type": "code",
   "execution_count": 4,
   "id": "d2cb3711",
   "metadata": {},
   "outputs": [
    {
     "name": "stdout",
     "output_type": "stream",
     "text": [
      "32.5 0.19622288836173518\n"
     ]
    }
   ],
   "source": [
    "from scipy import stats\n",
    "\n",
    "group1 = [3,2,5,1,4,2,6,7,9,8]\n",
    "group2 = [6,4,7,2,6,3,7,9,10,11]\n",
    "\n",
    "st, p = mannwhitneyu(group1, group2)\n",
    "\n",
    "print(st, p)"
   ]
  },
  {
   "cell_type": "code",
   "execution_count": 9,
   "id": "dcf7946e",
   "metadata": {},
   "outputs": [
    {
     "name": "stdout",
     "output_type": "stream",
     "text": [
      "32.5 0.19622288836173518\n",
      "10 10\n",
      "32.5\n",
      "0.014019277113959953\n"
     ]
    }
   ],
   "source": [
    "#데이터 불러오기\n",
    "data = pd.read_csv(\"./data/Mann_Whitney-Test_sample_data.csv\")\n",
    "\n",
    "#두 집단 간의 차이 검정\n",
    "st, p = mannwhitneyu(data['group1'], data['group2'])\n",
    "\n",
    "print(st, p)\n",
    "\n",
    "#두 집단의 크기 계산  # len()\n",
    "n1, n2 = len(data['group1']), len(data['group2'])\n",
    "print(n1, n2)\n",
    "\n",
    "if st > n1 * n2 / 2 :\n",
    "    st = n1 * n2 - st\n",
    "\n",
    "#p-value 계산\n",
    "p_val = 2 * stats.norm.cdf(-abs(st) / np.sqrt(n1 * n2 * (n1 + n2 + 1) / 12))\n",
    "print(st)\n",
    "print(p_val)"
   ]
  },
  {
   "cell_type": "code",
   "execution_count": null,
   "id": "42e5ca53",
   "metadata": {},
   "outputs": [],
   "source": []
  }
 ],
 "metadata": {
  "kernelspec": {
   "display_name": "AI",
   "language": "python",
   "name": "ai"
  },
  "language_info": {
   "codemirror_mode": {
    "name": "ipython",
    "version": 3
   },
   "file_extension": ".py",
   "mimetype": "text/x-python",
   "name": "python",
   "nbconvert_exporter": "python",
   "pygments_lexer": "ipython3",
   "version": "3.8.16"
  }
 },
 "nbformat": 4,
 "nbformat_minor": 5
}

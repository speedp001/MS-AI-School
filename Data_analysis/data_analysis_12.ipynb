{
 "cells": [
  {
   "cell_type": "code",
   "execution_count": 5,
   "id": "c31aa7c3",
   "metadata": {},
   "outputs": [],
   "source": [
    "import numpy as np\n",
    "from scipy.stats import chi2_contingency"
   ]
  },
  {
   "cell_type": "code",
   "execution_count": 7,
   "id": "2a286033",
   "metadata": {},
   "outputs": [
    {
     "name": "stdout",
     "output_type": "stream",
     "text": [
      "카이제곱 통계량: 3.3997252747252746\n",
      "p-value: 0.18270861966696167\n",
      "자유도: 2\n",
      "기대값:\n",
      "[[10.66666667 23.33333333 26.        ]\n",
      " [ 5.33333333 11.66666667 13.        ]]\n"
     ]
    }
   ],
   "source": [
    "#예시 데이터 생성\n",
    "observed_values = np.array([[10,20,30], [6,15,9]])\n",
    "\n",
    "#카이제곱 검정 수행\n",
    "chi2, p_value, dof, expected_values = chi2_contingency(observed_values)\n",
    "\n",
    "#결과 출력\n",
    "print(f\"카이제곱 통계량: {chi2}\")\n",
    "#이 값이 클수록 두 변수 간의 관련성이 강하다\n",
    "print(f\"p-value: {p_value}\")\n",
    "#카이제곱 통계량이 유의미한 값인지 판단하기 위해 p-value도 고려\n",
    "#두 관계가 우연히 발생할 확률(보통 0.05이하일 떄 유의미한 관련성이 있다고 판단)\n",
    "print(f\"자유도: {dof}\")\n",
    "#(행의 개수-1) * (열의 개수-1) = 자유도\n",
    "print(\"기대값:\")\n",
    "print(expected_values)"
   ]
  },
  {
   "cell_type": "raw",
   "id": "5228b38d",
   "metadata": {},
   "source": []
  },
  {
   "cell_type": "code",
   "execution_count": null,
   "id": "50e9eb8f",
   "metadata": {},
   "outputs": [],
   "source": []
  }
 ],
 "metadata": {
  "kernelspec": {
   "display_name": "AI",
   "language": "python",
   "name": "ai"
  },
  "language_info": {
   "codemirror_mode": {
    "name": "ipython",
    "version": 3
   },
   "file_extension": ".py",
   "mimetype": "text/x-python",
   "name": "python",
   "nbconvert_exporter": "python",
   "pygments_lexer": "ipython3",
   "version": "3.8.16"
  }
 },
 "nbformat": 4,
 "nbformat_minor": 5
}

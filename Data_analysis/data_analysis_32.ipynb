{
 "cells": [
  {
   "cell_type": "code",
   "execution_count": 3,
   "id": "9699428a",
   "metadata": {},
   "outputs": [],
   "source": [
    "import pandas as pd\n",
    "from scipy.stats import wilcoxon\n",
    "from statsmodels.stats.multitest import multipletests"
   ]
  },
  {
   "cell_type": "code",
   "execution_count": 6,
   "id": "54c3c77f",
   "metadata": {},
   "outputs": [
    {
     "name": "stdout",
     "output_type": "stream",
     "text": [
      "sample 1 :\n",
      "statistic :  0.0\n",
      "p-value 0.001953125\n",
      "reject HO\n",
      "sample 2 :\n",
      "statistic :  0.0\n",
      "p-value 0.001953125\n",
      "reject HO\n",
      "sample 3 :\n",
      "statistic :  0.0\n",
      "p-value 0.001953125\n",
      "reject HO\n",
      "sample 4 :\n",
      "statistic :  0.0\n",
      "p-value 0.001953125\n",
      "reject HO\n",
      "sample 5 :\n",
      "statistic :  0.0\n",
      "p-value 0.001953125\n",
      "reject HO\n",
      "sample 6 :\n",
      "statistic :  0.0\n",
      "p-value 0.001953125\n",
      "reject HO\n",
      "sample 7 :\n",
      "statistic :  0.0\n",
      "p-value 0.001953125\n",
      "reject HO\n",
      "sample 8 :\n",
      "statistic :  0.0\n",
      "p-value 0.001953125\n",
      "reject HO\n",
      "sample 9 :\n",
      "statistic :  0.0\n",
      "p-value 0.001953125\n",
      "reject HO\n",
      "sample 10 :\n",
      "statistic :  0.0\n",
      "p-value 0.001953125\n",
      "reject HO\n",
      "Bonferroni\n",
      "sample : 1 : reject HO\n",
      "sample : 2 : reject HO\n",
      "sample : 3 : reject HO\n",
      "sample : 4 : reject HO\n",
      "sample : 5 : reject HO\n",
      "sample : 6 : reject HO\n",
      "sample : 7 : reject HO\n",
      "sample : 8 : reject HO\n",
      "sample : 9 : reject HO\n",
      "sample : 10 : reject HO\n"
     ]
    }
   ],
   "source": [
    "data = pd.read_csv(\"./data/treatment_data.csv\")\n",
    "\n",
    "p_values =[]\n",
    "\n",
    "for i in range(10) :\n",
    "    sample = data.sample(frac=0.5)\n",
    "    st, p = wilcoxon(sample['pre_treatment'], sample['post_treatment'])\n",
    "    print(\"sample\", i+1, ':')\n",
    "    print(\"statistic : \", st)\n",
    "    print(\"p-value\", p)\n",
    "    p_values.append(p)\n",
    "    if p > 0.05 :\n",
    "        print(\"fail to reject HO\")\n",
    "    else :\n",
    "        print(\"reject HO\")\n",
    "        \n",
    "alpha = 0.05\n",
    "rejects_bonf, corrected_p_bonf, _, _ = multipletests(p_values, alpha=alpha, method=\"bonferroni\")\n",
    "print(\"Bonferroni\")\n",
    "for i in range(len(rejects_bonf)) :\n",
    "    if rejects_bonf[i] :\n",
    "        print(f\"sample : {i+1} : reject HO\")\n",
    "    else :\n",
    "        print(f\"sample : {i+1} : fail to reject HO\")"
   ]
  },
  {
   "cell_type": "code",
   "execution_count": null,
   "id": "4387c58b",
   "metadata": {},
   "outputs": [],
   "source": []
  }
 ],
 "metadata": {
  "kernelspec": {
   "display_name": "AI",
   "language": "python",
   "name": "ai"
  },
  "language_info": {
   "codemirror_mode": {
    "name": "ipython",
    "version": 3
   },
   "file_extension": ".py",
   "mimetype": "text/x-python",
   "name": "python",
   "nbconvert_exporter": "python",
   "pygments_lexer": "ipython3",
   "version": "3.8.16"
  }
 },
 "nbformat": 4,
 "nbformat_minor": 5
}

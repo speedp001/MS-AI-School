{
 "cells": [
  {
   "cell_type": "markdown",
   "id": "d52d7ccc",
   "metadata": {},
   "source": [
    "## 데이터 셋에서 결측치의 위치 확인 실습"
   ]
  },
  {
   "cell_type": "code",
   "execution_count": 7,
   "id": "bd51cc5c",
   "metadata": {},
   "outputs": [
    {
     "name": "stdout",
     "output_type": "stream",
     "text": [
      "     A    B     C\n",
      "0  1.0  NaN   9.0\n",
      "1  2.0  NaN  10.0\n",
      "2  NaN  6.0  11.0\n",
      "3  4.0  7.0  12.0\n",
      "4  5.0  8.0   NaN\n"
     ]
    }
   ],
   "source": [
    "import pandas as pd\n",
    "import numpy as np\n",
    "\n",
    "#예시 데이터 생성\n",
    "data = pd.DataFrame({\n",
    "    'A' : [1, 2, np.nan, 4, 5],\n",
    "    'B' : [np.nan, np.nan, 6, 7, 8],\n",
    "    'C' : [9, 10, 11, 12, np.nan]\n",
    "})\n",
    "\n",
    "print(data)"
   ]
  },
  {
   "cell_type": "markdown",
   "id": "22185aaa",
   "metadata": {},
   "source": [
    "## 결측치 위치 확인"
   ]
  },
  {
   "cell_type": "code",
   "execution_count": 2,
   "id": "b915b2be",
   "metadata": {},
   "outputs": [
    {
     "name": "stdout",
     "output_type": "stream",
     "text": [
      "       A      B      C\n",
      "0  False   True  False\n",
      "1  False   True  False\n",
      "2   True  False  False\n",
      "3  False  False  False\n",
      "4  False  False   True\n"
     ]
    }
   ],
   "source": [
    "print(data.isnull())"
   ]
  },
  {
   "cell_type": "markdown",
   "id": "9162a5d2",
   "metadata": {},
   "source": [
    "### 데이터 셋에서 결측치의 위치 확인 실습 - 히트맵 시각화"
   ]
  },
  {
   "cell_type": "code",
   "execution_count": 4,
   "id": "90d6896d",
   "metadata": {},
   "outputs": [
    {
     "data": {
      "image/png": "[encoded data removed]",
      "text/plain": [
       "<Figure size 800x600 with 1 Axes>"
      ]
     },
     "metadata": {},
     "output_type": "display_data"
    }
   ],
   "source": [
    "import matplotlib.pyplot as plt\n",
    "import seaborn as sns\n",
    "\n",
    "plt.figure(figsize=(8,6))\n",
    "sns.heatmap(data.isnull(), cmap='viridis', cbar=False)\n",
    "plt.show()"
   ]
  },
  {
   "cell_type": "markdown",
   "id": "29b0c081",
   "metadata": {},
   "source": [
    "### 데이터 셋에서 결측치의 위치 확인"
   ]
  },
  {
   "cell_type": "code",
   "execution_count": 5,
   "id": "9c6536be",
   "metadata": {},
   "outputs": [
    {
     "name": "stdout",
     "output_type": "stream",
     "text": [
      "A    1\n",
      "B    2\n",
      "C    1\n",
      "dtype: int64\n"
     ]
    }
   ],
   "source": [
    "#결측치 개수 확인\n",
    "missing_count = data.isnull().sum()\n",
    "print(missing_count)"
   ]
  },
  {
   "cell_type": "markdown",
   "id": "42b1f4c9",
   "metadata": {},
   "source": [
    "### 시계열 데이터 전처리 - 결측치가 있는 행 삭제 실습"
   ]
  },
  {
   "cell_type": "code",
   "execution_count": 15,
   "id": "7407ffa8",
   "metadata": {},
   "outputs": [
    {
     "name": "stdout",
     "output_type": "stream",
     "text": [
      "Date     2023-01-11 00:00:00\n",
      "Value                    NaN\n",
      "Name: 10, dtype: object\n"
     ]
    }
   ],
   "source": [
    "dates = pd.date_range(start='2023-01-01', periods=500, freq='D')\n",
    "values = np.random.randn(500)\n",
    "\n",
    "#결측치 생성\n",
    "values[10] = np.nan\n",
    "\n",
    "#데이터 프레임 생성\n",
    "data = pd.DataFrame({\n",
    "    'Date' : dates,\n",
    "    'Value' : values\n",
    "})\n",
    "\n",
    "row = data.iloc[10]\n",
    "print(row)"
   ]
  },
  {
   "cell_type": "markdown",
   "id": "353249fb",
   "metadata": {},
   "source": [
    "#### 결측치 개수 확인 체크"
   ]
  },
  {
   "cell_type": "code",
   "execution_count": 16,
   "id": "78349e3c",
   "metadata": {},
   "outputs": [
    {
     "name": "stdout",
     "output_type": "stream",
     "text": [
      "Date     0\n",
      "Value    1\n",
      "dtype: int64\n"
     ]
    }
   ],
   "source": [
    "print(data.isnull().sum())"
   ]
  },
  {
   "cell_type": "code",
   "execution_count": 18,
   "id": "4a58e959",
   "metadata": {},
   "outputs": [
    {
     "name": "stdout",
     "output_type": "stream",
     "text": [
      "          Date     Value\n",
      "0   2023-01-01 -0.909545\n",
      "1   2023-01-02  0.065846\n",
      "2   2023-01-03  1.329828\n",
      "3   2023-01-04 -0.429228\n",
      "4   2023-01-05  0.703574\n",
      "..         ...       ...\n",
      "495 2024-05-10  0.070510\n",
      "496 2024-05-11 -1.294220\n",
      "497 2024-05-12 -0.861337\n",
      "498 2024-05-13  1.595910\n",
      "499 2024-05-14 -2.561883\n",
      "\n",
      "[499 rows x 2 columns]\n"
     ]
    }
   ],
   "source": [
    "data_without_missing = data.dropna(axis=0)\n",
    "\n",
    "#결측치 삭제 여부 확인 체크\n",
    "print(data_without_missing)"
   ]
  },
  {
   "cell_type": "markdown",
   "id": "5481355f",
   "metadata": {},
   "source": [
    "## 선형보간 - pandas를 활용한 선형 보간 실습"
   ]
  },
  {
   "cell_type": "code",
   "execution_count": 24,
   "id": "9fdaa006",
   "metadata": {},
   "outputs": [
    {
     "name": "stdout",
     "output_type": "stream",
     "text": [
      "        Date  Value\n",
      "0 2023-01-01    1.0\n",
      "1 2023-01-02    2.0\n",
      "2 2023-01-03    3.0\n",
      "3 2023-01-04    NaN\n",
      "4 2023-01-05    5.0\n",
      "5 2023-01-06    6.0\n",
      "6 2023-01-07    NaN\n",
      "7 2023-01-08    8.0\n",
      "8 2023-01-09    9.0\n",
      "9 2023-01-10    NaN\n"
     ]
    }
   ],
   "source": [
    "#시계열 데이터 생성\n",
    "dates = pd.date_range(start='2023-01-01', periods=10, freq='D')\n",
    "values = [1, 2, 3,  np.nan, 5, 6, np.nan, 8, 9, np.nan]\n",
    "\n",
    "#데이터 프레임 생성\n",
    "data = pd.DataFrame({\n",
    "    'Date' : dates,\n",
    "    'Value' : values\n",
    "})\n",
    "\n",
    "print(data)"
   ]
  },
  {
   "cell_type": "markdown",
   "id": "af51592c",
   "metadata": {},
   "source": [
    "#### 선행 보간 적용"
   ]
  },
  {
   "cell_type": "code",
   "execution_count": 25,
   "id": "149f95ce",
   "metadata": {},
   "outputs": [
    {
     "name": "stdout",
     "output_type": "stream",
     "text": [
      "        Date  Value  Value_linear\n",
      "0 2023-01-01    1.0           1.0\n",
      "1 2023-01-02    2.0           2.0\n",
      "2 2023-01-03    3.0           3.0\n",
      "3 2023-01-04    NaN           4.0\n",
      "4 2023-01-05    5.0           5.0\n",
      "5 2023-01-06    6.0           6.0\n",
      "6 2023-01-07    NaN           7.0\n",
      "7 2023-01-08    8.0           8.0\n",
      "8 2023-01-09    9.0           9.0\n",
      "9 2023-01-10    NaN           9.0\n"
     ]
    }
   ],
   "source": [
    "data['Value_linear'] = data['Value'].interpolate(method='linear')\n",
    "print(data)"
   ]
  },
  {
   "cell_type": "markdown",
   "id": "99508d23",
   "metadata": {},
   "source": [
    "#### 시각화"
   ]
  },
  {
   "cell_type": "code",
   "execution_count": 28,
   "id": "15cee3a2",
   "metadata": {},
   "outputs": [
    {
     "data": {
      "image/png": "[encoded data removed]",
      "text/plain": [
       "<Figure size 640x480 with 1 Axes>"
      ]
     },
     "metadata": {},
     "output_type": "display_data"
    }
   ],
   "source": [
    "plt.plot(data['Date'], data['Value'], 'o-', label='Original data')\n",
    "plt.plot(data['Date'], data['Value_linear'], 'x-', label='Linear Interpolation')\n",
    "plt.legend()\n",
    "plt.xticks(rotation=-45)\n",
    "plt.show()"
   ]
  },
  {
   "cell_type": "code",
   "execution_count": null,
   "id": "c3a6d238",
   "metadata": {},
   "outputs": [],
   "source": []
  }
 ],
 "metadata": {
  "kernelspec": {
   "display_name": "AI",
   "language": "python",
   "name": "ai"
  },
  "language_info": {
   "codemirror_mode": {
    "name": "ipython",
    "version": 3
   },
   "file_extension": ".py",
   "mimetype": "text/x-python",
   "name": "python",
   "nbconvert_exporter": "python",
   "pygments_lexer": "ipython3",
   "version": "3.8.16"
  }
 },
 "nbformat": 4,
 "nbformat_minor": 5
}

{
 "cells": [
  {
   "cell_type": "code",
   "execution_count": 2,
   "id": "82c73173",
   "metadata": {},
   "outputs": [],
   "source": [
    "import numpy as np\n",
    "import os"
   ]
  },
  {
   "cell_type": "markdown",
   "id": "b8b1acc0",
   "metadata": {},
   "source": [
    "<h2 style=\"color: green;\">NumPy</h2>\n",
    "\n",
    " NumPy는 파이썬의 기본 자료구조보다 더 큰 규모의 다차원 배열 및 행렬 연산을 지원하는 라이브러리로서, 다양한 분야에서 널리 사용되고 있습니다.\n",
    "\n",
    " 인공지능에서도 NumPy의 다차원 배열 및 행렬 연산 기능이 많이 활용됩니다. 예를 들어, 딥러 닝에서는 수많은 가중치와 편향 값들을 NumPy 배열로 관리하며, 각 층 사이의 연산 역시 Num Py의 행렬 연산을 기반으로 수행됩니다.\n",
    "\n",
    " 따라서 NumPy는 인공지능 분야에서 필수적인 라이브러리 중 하나입니다. 이를 통해 효율적인 계산과 연산 속도를 얻을 수 있습니다.\n"
   ]
  },
  {
   "cell_type": "markdown",
   "id": "eff95b75",
   "metadata": {},
   "source": [
    "### *단일 객체 저장 및 불러오기*"
   ]
  },
  {
   "cell_type": "code",
   "execution_count": 3,
   "id": "8d7d70a7",
   "metadata": {},
   "outputs": [
    {
     "name": "stdout",
     "output_type": "stream",
     "text": [
      "[1 2 3 4 5 6 7 8 9]\n"
     ]
    }
   ],
   "source": [
    "#단일 객체 생성\n",
    "array = np.arange(1, 10)\n",
    "print(array)"
   ]
  },
  {
   "cell_type": "code",
   "execution_count": 4,
   "id": "27f1f9e9",
   "metadata": {},
   "outputs": [],
   "source": [
    "#numpy 형태로 저장\n",
    "os.makedirs(\"./data\", exist_ok=True)\n",
    "np.save(\"./data/save.npy\", array)"
   ]
  },
  {
   "cell_type": "code",
   "execution_count": 5,
   "id": "4d075628",
   "metadata": {},
   "outputs": [
    {
     "name": "stdout",
     "output_type": "stream",
     "text": [
      "[1 2 3 4 5 6 7 8 9]\n"
     ]
    }
   ],
   "source": [
    "#numpy 데이터 불러오기\n",
    "result = np.load(\"./data/save.npy\")\n",
    "print(result)"
   ]
  },
  {
   "cell_type": "markdown",
   "id": "0d789a69",
   "metadata": {},
   "source": [
    "### *복수 객체 저장 및 불러오기*"
   ]
  },
  {
   "cell_type": "code",
   "execution_count": 6,
   "id": "551d53a4",
   "metadata": {},
   "outputs": [],
   "source": [
    "#복수 객체 생성\n",
    "array01 = np.arange(0,10)\n",
    "array02 = np.arange(10,20)\n",
    "array03 = np.arange(20,30)"
   ]
  },
  {
   "cell_type": "code",
   "execution_count": 7,
   "id": "08e99e05",
   "metadata": {},
   "outputs": [],
   "source": [
    "#numpy 저장\n",
    "np.savez('./data/mul_save.npz', array1=array01, array2=array02, array3=array03)"
   ]
  },
  {
   "cell_type": "code",
   "execution_count": 8,
   "id": "b2fcf8b3",
   "metadata": {},
   "outputs": [
    {
     "name": "stdout",
     "output_type": "stream",
     "text": [
      "[0 1 2 3 4 5 6 7 8 9]\n",
      "[10 11 12 13 14 15 16 17 18 19]\n",
      "[20 21 22 23 24 25 26 27 28 29]\n"
     ]
    }
   ],
   "source": [
    "#numpy 불러오기\n",
    "data = np.load('./data/mul_save.npz')\n",
    "\n",
    "result01 = data['array1']\n",
    "result02 = data['array2']\n",
    "result03 = data['array3']\n",
    "\n",
    "print(array01)\n",
    "print(array02)\n",
    "print(array03)"
   ]
  },
  {
   "cell_type": "markdown",
   "id": "72ab58a7",
   "metadata": {},
   "source": [
    "### *정렬(기본 오름차순)*"
   ]
  },
  {
   "cell_type": "code",
   "execution_count": 50,
   "id": "702bc4a4",
   "metadata": {},
   "outputs": [
    {
     "name": "stdout",
     "output_type": "stream",
     "text": [
      "[ 2  4  5  8 20 30]\n"
     ]
    }
   ],
   "source": [
    "array = np.array([5, 20, 30, 2, 4, 8])\n",
    "array.sort()\n",
    "print(array)"
   ]
  },
  {
   "cell_type": "markdown",
   "id": "5c7bc7d9",
   "metadata": {},
   "source": [
    "### 정렬(내림 차순)"
   ]
  },
  {
   "cell_type": "code",
   "execution_count": 51,
   "id": "72f24e0b",
   "metadata": {},
   "outputs": [
    {
     "name": "stdout",
     "output_type": "stream",
     "text": [
      "[30 20  8  5  4  2]\n"
     ]
    }
   ],
   "source": [
    "print(array[::-1])"
   ]
  },
  {
   "cell_type": "markdown",
   "id": "8a92c943",
   "metadata": {},
   "source": [
    "### *원소의 정렬 - 각 열, 행을 기준으로 정렬*"
   ]
  },
  {
   "cell_type": "code",
   "execution_count": 52,
   "id": "6f8eb8c4",
   "metadata": {},
   "outputs": [
    {
     "name": "stdout",
     "output_type": "stream",
     "text": [
      "[[ 5  2  3  4 20]\n",
      " [ 7  9 10  4 45]]\n"
     ]
    }
   ],
   "source": [
    "array1 = np.array([[5, 2, 3, 4, 20], [7, 9, 10, 4, 45]])\n",
    "print(array1)\n",
    "org_array = array1.copy()"
   ]
  },
  {
   "cell_type": "code",
   "execution_count": 53,
   "id": "1f5e7eeb",
   "metadata": {},
   "outputs": [
    {
     "name": "stdout",
     "output_type": "stream",
     "text": [
      "[[ 5  2  3  4 20]\n",
      " [ 7  9 10  4 45]]\n"
     ]
    }
   ],
   "source": [
    "#정렬 전\n",
    "print(array1)"
   ]
  },
  {
   "cell_type": "code",
   "execution_count": 54,
   "id": "93dd9fb7",
   "metadata": {},
   "outputs": [
    {
     "name": "stdout",
     "output_type": "stream",
     "text": [
      "[[ 5  2  3  4 20]\n",
      " [ 7  9 10  4 45]]\n"
     ]
    }
   ],
   "source": [
    "#각 열을 기준으로 정렬 후\n",
    "array1.sort(axis=0)\n",
    "print(array1)"
   ]
  },
  {
   "cell_type": "code",
   "execution_count": 55,
   "id": "d75f47c6",
   "metadata": {},
   "outputs": [
    {
     "name": "stdout",
     "output_type": "stream",
     "text": [
      "[[ 2  3  4  5 20]\n",
      " [ 4  7  9 10 45]]\n"
     ]
    }
   ],
   "source": [
    "#각 행을 기준으로 정렬\n",
    "array1.sort(axis=1)\n",
    "print(array1)"
   ]
  },
  {
   "cell_type": "markdown",
   "id": "24dd5562",
   "metadata": {},
   "source": [
    "### *균일한 간격으로 데이터 생성*"
   ]
  },
  {
   "cell_type": "code",
   "execution_count": 56,
   "id": "76dcabed",
   "metadata": {},
   "outputs": [
    {
     "name": "stdout",
     "output_type": "stream",
     "text": [
      "[0. 2. 4.]\n"
     ]
    }
   ],
   "source": [
    "array2 = np.linspace(0,4,3)\n",
    "print(array2)"
   ]
  },
  {
   "cell_type": "markdown",
   "id": "cd470044",
   "metadata": {},
   "source": [
    "### *난수의 재연*"
   ]
  },
  {
   "cell_type": "code",
   "execution_count": 57,
   "id": "b6380335",
   "metadata": {},
   "outputs": [
    {
     "name": "stdout",
     "output_type": "stream",
     "text": [
      "[[3 0 7]\n",
      " [8 3 4]]\n"
     ]
    }
   ],
   "source": [
    "np.random.seed(444)\n",
    "print(np.random.randint(0, 10, (2,3)))"
   ]
  },
  {
   "cell_type": "markdown",
   "id": "6100b55f",
   "metadata": {},
   "source": [
    "### *배열 객체 복사*"
   ]
  },
  {
   "cell_type": "code",
   "execution_count": 58,
   "id": "5ab5cd9d",
   "metadata": {},
   "outputs": [
    {
     "name": "stdout",
     "output_type": "stream",
     "text": [
      "[99  1  2  3  4  5  6  7  8  9] [99  1  2  3  4  5  6  7  8  9]\n"
     ]
    }
   ],
   "source": [
    "array1 = np.arange(0,10)\n",
    "array2 = array1\n",
    "\n",
    "array2[0] = 99\n",
    "print(array1, array2)"
   ]
  },
  {
   "cell_type": "code",
   "execution_count": 59,
   "id": "12ac2418",
   "metadata": {},
   "outputs": [
    {
     "name": "stdout",
     "output_type": "stream",
     "text": [
      "[0 1 2 3 4 5 6 7 8 9] [99  1  2  3  4  5  6  7  8  9]\n"
     ]
    }
   ],
   "source": [
    "array3 = np.arange(0,10)\n",
    "array4 = array3.copy()\n",
    "\n",
    "array4[0] = 99\n",
    "print(array3, array4)"
   ]
  },
  {
   "cell_type": "markdown",
   "id": "68127bae",
   "metadata": {},
   "source": [
    "### *중복된 원소 제거*"
   ]
  },
  {
   "cell_type": "code",
   "execution_count": 60,
   "id": "d8adffee",
   "metadata": {},
   "outputs": [
    {
     "name": "stdout",
     "output_type": "stream",
     "text": [
      "원본 >> [2 2 2 2 2 3 3 1 1 4]\n",
      "중복 제거 >> [1 2 3 4]\n"
     ]
    }
   ],
   "source": [
    "array5 = np.array([2,2,2,2,2,3,3,1,1,4])\n",
    "print(\"원본 >>\", array5)\n",
    "temp = np.unique(array5)\n",
    "print(\"중복 제거 >>\", temp)"
   ]
  },
  {
   "cell_type": "markdown",
   "id": "8965c7ab",
   "metadata": {},
   "source": [
    "### *브로드 캐스팅*"
   ]
  },
  {
   "cell_type": "code",
   "execution_count": 9,
   "id": "01c37152",
   "metadata": {},
   "outputs": [
    {
     "name": "stdout",
     "output_type": "stream",
     "text": [
      "[[11 22 33]\n",
      " [14 25 36]]\n"
     ]
    }
   ],
   "source": [
    "A = np.array([[1,2,3], [4,5,6]])\n",
    "B = np.array([10,20,30])\n",
    "\n",
    "#브로드캐스팅을 통한 요소별 덧셈 연산\n",
    "C = A + B\n",
    "print(C)"
   ]
  }
 ],
 "metadata": {
  "kernelspec": {
   "display_name": "AI",
   "language": "python",
   "name": "ai"
  },
  "language_info": {
   "codemirror_mode": {
    "name": "ipython",
    "version": 3
   },
   "file_extension": ".py",
   "mimetype": "text/x-python",
   "name": "python",
   "nbconvert_exporter": "python",
   "pygments_lexer": "ipython3",
   "version": "3.8.16"
  }
 },
 "nbformat": 4,
 "nbformat_minor": 5
}

{
 "cells": [
  {
   "cell_type": "markdown",
   "id": "b006e6b3",
   "metadata": {},
   "source": [
    "<h2 style=\"color: green;\">데이터 인코딩</h2>"
   ]
  },
  {
   "cell_type": "markdown",
   "id": "2c8a24e1",
   "metadata": {},
   "source": [
    "## 범주형 데이터\n",
    "\n",
    "범주형 데이터는 연속적인 값을 갖지 않고 명목상으로 분류되는 값들을 의미합니다. 이러한 데이터는 숫자로 표현되지 않는다는 특징을 갖습니다.\n",
    "\n",
    "범주형(categorical) 데이터는 연속형(numerical) 데이터와 다르게 숫자 값이 아니라 범주(category) 값으로 이루어 져 있습니다. 이러한 데이터는 대부분의 머신 러닝 알고리즘에 바로 적용할 수 없으며, 이를 처리하는 방법이 필 요합니다."
   ]
  },
  {
   "cell_type": "markdown",
   "id": "496d0e1b",
   "metadata": {},
   "source": [
    "## 순서가 없는 범주형 데이터 처리"
   ]
  },
  {
   "cell_type": "code",
   "execution_count": 19,
   "id": "cac542f8",
   "metadata": {},
   "outputs": [],
   "source": [
    "import numpy as np\n",
    "from sklearn.preprocessing import LabelBinarizer, MultiLabelBinarizer"
   ]
  },
  {
   "cell_type": "markdown",
   "id": "083a89df",
   "metadata": {},
   "source": [
    "### *단일 클래스 특성에 대한 처리*"
   ]
  },
  {
   "cell_type": "code",
   "execution_count": 4,
   "id": "d747d2c5",
   "metadata": {},
   "outputs": [
    {
     "name": "stdout",
     "output_type": "stream",
     "text": [
      "[['가나다라']\n",
      " ['가나다라']\n",
      " ['아바하자']\n",
      " ['카나다사']]\n",
      "['가나다라' '아바하자' '카나다사']\n"
     ]
    }
   ],
   "source": [
    "feature = np.array((['가나다라'],\n",
    "                    ['가나다라'],\n",
    "                    ['아바하자'],\n",
    "                    ['카나다사']))\n",
    "print(feature)\n",
    "\n",
    "#원-핫 인코더 생성\n",
    "one_hot = LabelBinarizer()  #객체 담기\n",
    "one_hot.fit_transform(feature)  #특성을 원-핫 인코딩 변환\n",
    "#특성 클래스 확인\n",
    "print(one_hot.classes_)"
   ]
  },
  {
   "cell_type": "markdown",
   "id": "c3ba4ca7",
   "metadata": {},
   "source": [
    "원-핫 인코딩은 단어 집합의 크기를 벡터의 차원으로 하고, 표현하고 싶은 단어의 인덱스에 1의 값을 부여하고, 다른 인덱스에는 0을 부여하는 단어의 벡터 표현 방식입니다"
   ]
  },
  {
   "cell_type": "markdown",
   "id": "544d759d",
   "metadata": {},
   "source": [
    "### *다중 클래스 특성에 대한 처리*"
   ]
  },
  {
   "cell_type": "code",
   "execution_count": 5,
   "id": "93df8e71",
   "metadata": {},
   "outputs": [
    {
     "name": "stdout",
     "output_type": "stream",
     "text": [
      "['가나다라마바' '거북이와 두루미' '거북이와 토끼' '델몬트주스' '아자바하나' '카나다하바' '콩쥐와 팥쥐' '토끼와 거북이']\n"
     ]
    }
   ],
   "source": [
    "multiclass_feature = [('거북이와 두루미', '가나다라마바'),\n",
    "                     ('거북이와 토끼', '델몬트주스'),\n",
    "                     ('거북이와 두루미', '아자바하나'),\n",
    "                     ('토끼와 거북이', '카나다하바'),\n",
    "                     ('콩쥐와 팥쥐', '아자바하나')\n",
    "                     ]\n",
    "\n",
    "one_hot_multi = MultiLabelBinarizer()\n",
    "one_hot_multi.fit_transform(multiclass_feature)\n",
    "print(one_hot_multi.classes_)"
   ]
  },
  {
   "cell_type": "markdown",
   "id": "965690e5",
   "metadata": {},
   "source": [
    "### *문자열 타깃 데이터 원-핫 인코딩*"
   ]
  },
  {
   "cell_type": "code",
   "execution_count": 10,
   "id": "928e74af",
   "metadata": {},
   "outputs": [
    {
     "name": "stdout",
     "output_type": "stream",
     "text": [
      "[array(['안녕', '저녁', '점심'], dtype=object), array([1, 2, 3], dtype=object)]\n"
     ]
    }
   ],
   "source": [
    "from sklearn.preprocessing import OneHotEncoder\n",
    "\n",
    "str_feature = ([['안녕', 1],\n",
    "                ['저녁', 2],\n",
    "                ['안녕', 1],\n",
    "                ['점심', 3],\n",
    "               ])\n",
    "\n",
    "one_hot_encoder = OneHotEncoder()\n",
    "\n",
    "#One hot encoder -> 입력 특성 배열을 모두 범주형\n",
    "one_hot_encoder.fit_transform(str_feature)\n",
    "print(one_hot_encoder.categories_)"
   ]
  },
  {
   "cell_type": "markdown",
   "id": "f1f78531",
   "metadata": {},
   "source": [
    "## 1-1 순서가 있는 범주형 특성 인코딩\n",
    "+ 순서가 있는 클래스는 순서 개념을 가진 수치값으로 변환\n",
    "+ 딕셔너리 사용해서 -> 특성"
   ]
  },
  {
   "cell_type": "code",
   "execution_count": 11,
   "id": "18aae80e",
   "metadata": {},
   "outputs": [],
   "source": [
    "import pandas as pd"
   ]
  },
  {
   "cell_type": "code",
   "execution_count": 12,
   "id": "449da4ea",
   "metadata": {},
   "outputs": [
    {
     "name": "stdout",
     "output_type": "stream",
     "text": [
      "    Score\n",
      "0     Low\n",
      "1     Low\n",
      "2  Medium\n",
      "3  Medium\n",
      "4    High\n"
     ]
    }
   ],
   "source": [
    "#특성 데이터 생성\n",
    "dataframe = pd.DataFrame({\n",
    "    'Score' : ['Low', 'Low', \"Medium\", \"Medium\", 'High']\n",
    "})\n",
    "\n",
    "print(dataframe)"
   ]
  },
  {
   "cell_type": "code",
   "execution_count": 13,
   "id": "7786724f",
   "metadata": {},
   "outputs": [
    {
     "name": "stdout",
     "output_type": "stream",
     "text": [
      "{'Low': 1, 'Medium': 2, 'High': 3}\n"
     ]
    }
   ],
   "source": [
    "#매핑 딕셔너리 생성\n",
    "scale_mapper = {\n",
    "    \"Low\" : 1,\n",
    "    \"Medium\" : 2,\n",
    "    \"High\" : 3\n",
    "}\n",
    "\n",
    "print(scale_mapper)"
   ]
  },
  {
   "cell_type": "code",
   "execution_count": 14,
   "id": "651c8291",
   "metadata": {},
   "outputs": [
    {
     "name": "stdout",
     "output_type": "stream",
     "text": [
      "0    1\n",
      "1    1\n",
      "2    2\n",
      "3    2\n",
      "4    3\n",
      "Name: Score, dtype: int64\n"
     ]
    }
   ],
   "source": [
    "data = dataframe['Score'].replace(scale_mapper)\n",
    "print(data)"
   ]
  },
  {
   "cell_type": "markdown",
   "id": "a44f3ba5",
   "metadata": {},
   "source": [
    "## 1-2 순서가 있는 범주형 특성 인코딩"
   ]
  },
  {
   "cell_type": "code",
   "execution_count": 15,
   "id": "f06bc609",
   "metadata": {},
   "outputs": [],
   "source": [
    "from sklearn.preprocessing import OrdinalEncoder"
   ]
  },
  {
   "cell_type": "code",
   "execution_count": 16,
   "id": "11df7b6e",
   "metadata": {},
   "outputs": [
    {
     "name": "stdout",
     "output_type": "stream",
     "text": [
      "[array(['High', 'Low', 'Medium'], dtype='<U21'), array(['10', '30', '40'], dtype='<U21')]\n"
     ]
    }
   ],
   "source": [
    "feature_array = np.array((['Low', 10],\n",
    "                        ['High', 40],\n",
    "                        ['Medium', 30]\n",
    "                        ))\n",
    "\n",
    "ordinal_encoder = OrdinalEncoder()\n",
    "ordinal_encoder.fit_transform(feature_array)\n",
    "print(ordinal_encoder.categories_)"
   ]
  },
  {
   "cell_type": "markdown",
   "id": "926dbafa",
   "metadata": {},
   "source": [
    "## 1-3 순서가 있는 범주형 특성 인코딩\n",
    "+ 특성 딕셔너리 인코딩"
   ]
  },
  {
   "cell_type": "code",
   "execution_count": 17,
   "id": "ee3c847c",
   "metadata": {},
   "outputs": [],
   "source": [
    "from sklearn.feature_extraction import DictVectorizer"
   ]
  },
  {
   "cell_type": "code",
   "execution_count": 18,
   "id": "b2a562ec",
   "metadata": {},
   "outputs": [
    {
     "name": "stdout",
     "output_type": "stream",
     "text": [
      "[[4. 2. 0.]\n",
      " [3. 2. 0.]\n",
      " [0. 1. 2.]\n",
      " [0. 1. 2.]]\n",
      "['Blue' 'Red' 'Yellow']\n",
      "   Blue  Red  Yellow\n",
      "0   4.0  2.0     0.0\n",
      "1   3.0  2.0     0.0\n",
      "2   0.0  1.0     2.0\n",
      "3   0.0  1.0     2.0\n"
     ]
    }
   ],
   "source": [
    "#딕셔너리 생성\n",
    "data_dict = [{\"Red\" : 2, \"Blue\" : 4},\n",
    "            {\"Red\" : 2, \"Blue\" : 3},\n",
    "            {\"Red\" : 1, \"Yellow\" : 2},\n",
    "            {\"Red\" : 1, \"Yellow\" : 2}]\n",
    "\n",
    "dictVectorizer = DictVectorizer(sparse=False)\n",
    "#sparse=False는 모든 데이터를 메모리에 올린다는 의미(밀집 행렬)\n",
    "\n",
    "feature_dict = dictVectorizer.fit_transform(data_dict)\n",
    "print(feature_dict)\n",
    "\n",
    "feature_dict_name = dictVectorizer.get_feature_names_out()\n",
    "print(feature_dict_name)\n",
    "\n",
    "dict_data = pd.DataFrame(feature_dict, columns=feature_dict_name)\n",
    "print(dict_data)"
   ]
  },
  {
   "cell_type": "markdown",
   "id": "f50b38da",
   "metadata": {},
   "source": [
    "## 범주형 데이터 결측치 처리\n",
    "\n",
    "### *누락된 클래스 값 대처하기 01*"
   ]
  },
  {
   "cell_type": "code",
   "execution_count": 21,
   "id": "33692511",
   "metadata": {},
   "outputs": [],
   "source": [
    "from sklearn.neighbors import KNeighborsClassifier"
   ]
  },
  {
   "cell_type": "code",
   "execution_count": 28,
   "id": "0636acbf",
   "metadata": {},
   "outputs": [
    {
     "name": "stdout",
     "output_type": "stream",
     "text": [
      "[[ 2.1   1.48]\n",
      " [ 1.18  1.33]\n",
      " [ 1.22  1.27]\n",
      " [-0.2  -1.15]]\n",
      "[0. 1. 0. 1.]\n"
     ]
    }
   ],
   "source": [
    "x = np.array([[0, 2.10, 1.48],\n",
    "             [1, 1.18, 1.33],\n",
    "             [0, 1.22, 1.27],\n",
    "             [1, -0.20, -1.15]])\n",
    "\n",
    "x_with_nan = np.array([[np.nan, 0.87, 1.33], \n",
    "                       [np.nan, -0.67, -0.22]])\n",
    "clf = KNeighborsClassifier(3, weights='distance')\n",
    "\n",
    "print(x[:, 1:])  #feature\n",
    "print(x[:,0])  #label"
   ]
  },
  {
   "cell_type": "code",
   "execution_count": 27,
   "id": "c1736b79",
   "metadata": {},
   "outputs": [
    {
     "name": "stdout",
     "output_type": "stream",
     "text": [
      "[[ 0.    0.87  1.33]\n",
      " [ 1.   -0.67 -0.22]\n",
      " [ 0.    2.1   1.48]\n",
      " [ 1.    1.18  1.33]\n",
      " [ 0.    1.22  1.27]\n",
      " [ 1.   -0.2  -1.15]]\n"
     ]
    }
   ],
   "source": [
    "train_model = clf.fit(x[:,1:], x[:,0])\n",
    "imputer_values = train_model.predict(x_with_nan[:,1:])  #누락된 값의 클래스 예측\n",
    "\n",
    "x_with_imputer = np.hstack((imputer_values.reshape(-1, 1), x_with_nan[:,1:]))\n",
    "data = np.vstack((x_with_imputer, x))  #두 특성 행렬을 연결\n",
    "print(data)"
   ]
  },
  {
   "cell_type": "markdown",
   "id": "72367b88",
   "metadata": {},
   "source": [
    "### *누락된 클래스 값 대처하기  02*\n",
    "+ 누락된 값을 특성에서 가장 자주 등장하는 값으로 채우기"
   ]
  },
  {
   "cell_type": "code",
   "execution_count": 21,
   "id": "a5cc3758",
   "metadata": {},
   "outputs": [],
   "source": [
    "from sklearn.impute import SimpleImputer"
   ]
  },
  {
   "cell_type": "code",
   "execution_count": 22,
   "id": "403ce61e",
   "metadata": {},
   "outputs": [
    {
     "name": "stdout",
     "output_type": "stream",
     "text": [
      "[[ 0.    0.87  1.33]\n",
      " [ 0.   -0.67 -0.22]\n",
      " [ 0.    2.1   1.48]\n",
      " [ 1.    1.18  1.33]\n",
      " [ 0.    1.22  1.27]\n",
      " [ 1.   -0.2  -1.15]]\n"
     ]
    }
   ],
   "source": [
    "x_complete = np.vstack((x_with_nan, x))\n",
    "\n",
    "impute = SimpleImputer(strategy='most_frequent')\n",
    "data_impute = impute.fit_transform(x_complete)\n",
    "                                  \n",
    "print(data_impute)"
   ]
  }
 ],
 "metadata": {
  "kernelspec": {
   "display_name": "AI",
   "language": "python",
   "name": "ai"
  },
  "language_info": {
   "codemirror_mode": {
    "name": "ipython",
    "version": 3
   },
   "file_extension": ".py",
   "mimetype": "text/x-python",
   "name": "python",
   "nbconvert_exporter": "python",
   "pygments_lexer": "ipython3",
   "version": "3.8.16"
  }
 },
 "nbformat": 4,
 "nbformat_minor": 5
}
